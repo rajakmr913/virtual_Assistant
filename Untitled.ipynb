{
 "cells": [
  {
   "cell_type": "code",
   "execution_count": 6,
   "id": "a12e795e",
   "metadata": {},
   "outputs": [
    {
     "ename": "ModuleNotFoundError",
     "evalue": "No module named 'speechrecognition'",
     "output_type": "error",
     "traceback": [
      "\u001b[1;31m---------------------------------------------------------------------------\u001b[0m",
      "\u001b[1;31mModuleNotFoundError\u001b[0m                       Traceback (most recent call last)",
      "\u001b[1;32m<ipython-input-6-3a72e8715e83>\u001b[0m in \u001b[0;36m<module>\u001b[1;34m\u001b[0m\n\u001b[0;32m      1\u001b[0m \u001b[1;32mimport\u001b[0m \u001b[0mpyttsx3\u001b[0m\u001b[1;33m\u001b[0m\u001b[1;33m\u001b[0m\u001b[0m\n\u001b[1;32m----> 2\u001b[1;33m \u001b[1;32mimport\u001b[0m \u001b[0mspeechrecognition\u001b[0m \u001b[1;32mas\u001b[0m \u001b[0msr\u001b[0m\u001b[1;33m\u001b[0m\u001b[1;33m\u001b[0m\u001b[0m\n\u001b[0m\u001b[0;32m      3\u001b[0m \u001b[1;32mimport\u001b[0m \u001b[0mdatetime\u001b[0m\u001b[1;33m\u001b[0m\u001b[1;33m\u001b[0m\u001b[0m\n\u001b[0;32m      4\u001b[0m \u001b[1;33m\u001b[0m\u001b[0m\n\u001b[0;32m      5\u001b[0m \u001b[0mengine\u001b[0m \u001b[1;33m=\u001b[0m \u001b[0mpyttsx3\u001b[0m\u001b[1;33m.\u001b[0m\u001b[0minit\u001b[0m\u001b[1;33m(\u001b[0m\u001b[1;34m\"sapi5\"\u001b[0m\u001b[1;33m)\u001b[0m\u001b[1;33m\u001b[0m\u001b[1;33m\u001b[0m\u001b[0m\n",
      "\u001b[1;31mModuleNotFoundError\u001b[0m: No module named 'speechrecognition'"
     ]
    }
   ],
   "source": [
    "import pyttsx3\n",
    "import speechrecognition as sr\n",
    "import datetime\n",
    "\n",
    "engine = pyttsx3.init(\"sapi5\")\n",
    "voices = engine.getProperty('voices')\n",
    "engine.setProperty('voice', voices[0].id)\n",
    "\n",
    "\n",
    "\n",
    "def speak(audio):\n",
    "    engine.say(audio)\n",
    "    engine.runAndWait()\n",
    "\n",
    "def wishMe():\n",
    "    hour = int(datetime.datetime.now().hour)\n",
    "    if hour>=0 and hour<12:\n",
    "        speak(\"good mornig!\")\n",
    "    elif hour>=12 and hour<18:\n",
    "        speak(\"good afternoon!\")\n",
    "    else:\n",
    "        speak(\"good evening!\")\n",
    "\n",
    "    speak(\"I am your AI sir . please tell me how may i help you\")\n",
    "\n",
    "def takeCommand():\n",
    "    # it takes microphone input from user and return string\n",
    "    r = sr.Recognizer()\n",
    "    with sr.Microphone( )as sourse:\n",
    "        print(\"listening...\")\n",
    "        r.pause_threshold = 1\n",
    "        audio = r.listen(sourse)\n",
    "\n",
    "\n",
    "    try:\n",
    "         print( \"Recognizing...\")\n",
    "         qurey = r.recognize_google(audio , language = 'en-in')\n",
    "         print(\"user said:\" , qurey)\n",
    "\n",
    "    except Exception as e:\n",
    "        print(e)\n",
    "        print(\" sorry i did not capture please say that again...\")\n",
    "        return \"none\"\n",
    "    return qurey\n",
    "\n",
    "\n",
    "\n",
    "if __name__ ==\"__main__\":\n",
    "    wishMe()\n",
    "    takeCommand()"
   ]
  },
  {
   "cell_type": "code",
   "execution_count": null,
   "id": "e0fec6a6",
   "metadata": {},
   "outputs": [],
   "source": []
  }
 ],
 "metadata": {
  "kernelspec": {
   "display_name": "Python 3",
   "language": "python",
   "name": "python3"
  },
  "language_info": {
   "codemirror_mode": {
    "name": "ipython",
    "version": 3
   },
   "file_extension": ".py",
   "mimetype": "text/x-python",
   "name": "python",
   "nbconvert_exporter": "python",
   "pygments_lexer": "ipython3",
   "version": "3.9.5"
  }
 },
 "nbformat": 4,
 "nbformat_minor": 5
}
